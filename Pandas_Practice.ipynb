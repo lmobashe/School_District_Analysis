{
 "cells": [
  {
   "cell_type": "code",
   "execution_count": 5,
   "id": "a72e20de",
   "metadata": {},
   "outputs": [],
   "source": [
    "#import dependencies\n",
    "import pandas as pd"
   ]
  },
  {
   "cell_type": "code",
   "execution_count": 8,
   "id": "76116595",
   "metadata": {},
   "outputs": [
    {
     "name": "stdout",
     "output_type": "stream",
     "text": [
      "0         Huang High School\n",
      "1      Figueroa High School\n",
      "2       Shelton High School\n",
      "3     Hernandez High School\n",
      "4       Griffin High School\n",
      "5        Wilson High School\n",
      "6       Cabrera High School\n",
      "7        Bailey High School\n",
      "8        Holden High School\n",
      "9          Pena High School\n",
      "10       Wright High School\n",
      "11    Rodriguez High School\n",
      "12      Johnson High School\n",
      "13         Ford High School\n",
      "14       Thomas High School\n",
      "dtype: object\n"
     ]
    }
   ],
   "source": [
    "#List of High schools\n",
    "high_schools = [\"Huang High School\",  \"Figueroa High School\", \"Shelton High School\", \"Hernandez High School\",\"Griffin High School\",\"Wilson High School\", \"Cabrera High School\", \"Bailey High School\", \"Holden High School\", \"Pena High School\", \"Wright High School\",\"Rodriguez High School\", \"Johnson High School\", \"Ford High School\", \"Thomas High School\"]\n",
    "\n",
    "school_series = pd.Series(high_schools)\n",
    "print(school_series)"
   ]
  },
  {
   "cell_type": "code",
   "execution_count": 9,
   "id": "404b5c2e",
   "metadata": {},
   "outputs": [
    {
     "name": "stdout",
     "output_type": "stream",
     "text": [
      "   School ID            school_name      type\n",
      "0          0   Huang High    School  District\n",
      "1          1   Figueroa High School  District\n",
      "2          2    Shelton High School   Charter\n",
      "3          3  Hernandez High School  District\n",
      "4          4    Griffin High School   Charter\n"
     ]
    }
   ],
   "source": [
    "high_school_types = [{\"School ID\": 0, \"school_name\": \"Huang High    School\", \"type\": \"District\"},\n",
    "                   {\"School ID\": 1, \"school_name\": \"Figueroa High School\", \"type\": \"District\"},\n",
    "                    {\"School ID\": 2, \"school_name\":\"Shelton High School\", \"type\": \"Charter\"},\n",
    "                    {\"School ID\": 3, \"school_name\":\"Hernandez High School\", \"type\": \"District\"},\n",
    "                    {\"School ID\": 4, \"school_name\":\"Griffin High School\", \"type\": \"Charter\"}]\n",
    "school_df = pd.DataFrame(high_school_types)\n",
    "print(school_df)"
   ]
  },
  {
   "cell_type": "code",
   "execution_count": 10,
   "id": "dc8bb692",
   "metadata": {},
   "outputs": [],
   "source": [
    "#Three separate lists of information on high schools\n",
    "school_id = [0, 1, 2, 3, 4]\n",
    "\n",
    "school_name = ['Huang High School', 'Figeroa High School', 'Shelton High School', 'Hernandez High School', 'Giffin High School']\n",
    "\n",
    "type_of_school = ['District', 'District', 'Charter', 'District', 'Charter']"
   ]
  },
  {
   "cell_type": "code",
   "execution_count": 11,
   "id": "4f4c7a90",
   "metadata": {},
   "outputs": [],
   "source": [
    "#initialize a new DataFrame\n",
    "schools_df = pd.DataFrame()"
   ]
  },
  {
   "cell_type": "code",
   "execution_count": 12,
   "id": "7cc3928a",
   "metadata": {},
   "outputs": [],
   "source": [
    "schools_df['School ID'] = school_id\n",
    "schools_df['School Name'] = school_name\n",
    "schools_df['School Type'] = type_of_school"
   ]
  },
  {
   "cell_type": "code",
   "execution_count": 13,
   "id": "796f66e6",
   "metadata": {},
   "outputs": [
    {
     "name": "stdout",
     "output_type": "stream",
     "text": [
      "   School ID            School Name School Type\n",
      "0          0      Huang High School    District\n",
      "1          1    Figeroa High School    District\n",
      "2          2    Shelton High School     Charter\n",
      "3          3  Hernandez High School    District\n",
      "4          4     Giffin High School     Charter\n"
     ]
    }
   ],
   "source": [
    "print(schools_df)"
   ]
  },
  {
   "cell_type": "code",
   "execution_count": 15,
   "id": "ecba0271",
   "metadata": {},
   "outputs": [
    {
     "name": "stdout",
     "output_type": "stream",
     "text": [
      "   School ID            School Name School Type\n",
      "0          0      Huang High School    District\n",
      "1          1    Figeroa High School    District\n",
      "2          2    Shelton High School     Charter\n",
      "3          3  Hernandez High School    District\n",
      "4          4     Giffin High School     Charter\n"
     ]
    }
   ],
   "source": [
    "#or create a dictionary of the information on high school\n",
    "high_schools_dicts = {'School ID': school_id, 'School Name': school_name, 'School Type': type_of_school}\n",
    "schools_dict_df = pd.DataFrame(high_schools_dicts)\n",
    "print(schools_df)"
   ]
  },
  {
   "cell_type": "code",
   "execution_count": 19,
   "id": "9bc5c06a",
   "metadata": {},
   "outputs": [
    {
     "data": {
      "text/plain": [
       "Index(['School ID', 'School Name', 'School Type'], dtype='object')"
      ]
     },
     "execution_count": 19,
     "metadata": {},
     "output_type": "execute_result"
    }
   ],
   "source": [
    "#column headers of a dataframe\n",
    "schools_df.columns"
   ]
  },
  {
   "cell_type": "code",
   "execution_count": 20,
   "id": "7183ca94",
   "metadata": {},
   "outputs": [
    {
     "data": {
      "text/plain": [
       "RangeIndex(start=0, stop=5, step=1)"
      ]
     },
     "execution_count": 20,
     "metadata": {},
     "output_type": "execute_result"
    }
   ],
   "source": [
    "#indexes of a dataframe\n",
    "schools_df.index"
   ]
  },
  {
   "cell_type": "code",
   "execution_count": 21,
   "id": "260bf7d2",
   "metadata": {},
   "outputs": [
    {
     "data": {
      "text/plain": [
       "array([[0, 'Huang High School', 'District'],\n",
       "       [1, 'Figeroa High School', 'District'],\n",
       "       [2, 'Shelton High School', 'Charter'],\n",
       "       [3, 'Hernandez High School', 'District'],\n",
       "       [4, 'Giffin High School', 'Charter']], dtype=object)"
      ]
     },
     "execution_count": 21,
     "metadata": {},
     "output_type": "execute_result"
    }
   ],
   "source": [
    "#values of a dataframe\n",
    "schools_df.values"
   ]
  },
  {
   "cell_type": "code",
   "execution_count": null,
   "id": "76ee0599",
   "metadata": {},
   "outputs": [],
   "source": []
  }
 ],
 "metadata": {
  "kernelspec": {
   "display_name": "PythonData",
   "language": "python",
   "name": "pythondata"
  },
  "language_info": {
   "codemirror_mode": {
    "name": "ipython",
    "version": 3
   },
   "file_extension": ".py",
   "mimetype": "text/x-python",
   "name": "python",
   "nbconvert_exporter": "python",
   "pygments_lexer": "ipython3",
   "version": "3.7.10"
  }
 },
 "nbformat": 4,
 "nbformat_minor": 5
}
